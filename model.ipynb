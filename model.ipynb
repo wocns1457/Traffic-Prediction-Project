{
  "cells": [
    {
      "cell_type": "code",
      "source": [
        "!pip install shap"
      ],
      "metadata": {
        "id": "Zh6BtfMdxPRq"
      },
      "execution_count": null,
      "outputs": []
    },
    {
      "cell_type": "code",
      "execution_count": null,
      "metadata": {
        "colab": {
          "base_uri": "https://localhost:8080/"
        },
        "id": "Nq0ledTWokQb",
        "outputId": "57b3e67b-4d9a-4b90-8346-265b07d0080e"
      },
      "outputs": [
        {
          "output_type": "stream",
          "name": "stdout",
          "text": [
            "Collecting category_encoders\n",
            "  Downloading category_encoders-2.3.0-py2.py3-none-any.whl (82 kB)\n",
            "\u001b[?25l\r\u001b[K     |████                            | 10 kB 27.6 MB/s eta 0:00:01\r\u001b[K     |████████                        | 20 kB 30.2 MB/s eta 0:00:01\r\u001b[K     |████████████                    | 30 kB 34.5 MB/s eta 0:00:01\r\u001b[K     |████████████████                | 40 kB 28.8 MB/s eta 0:00:01\r\u001b[K     |████████████████████            | 51 kB 18.5 MB/s eta 0:00:01\r\u001b[K     |████████████████████████        | 61 kB 14.7 MB/s eta 0:00:01\r\u001b[K     |████████████████████████████    | 71 kB 14.1 MB/s eta 0:00:01\r\u001b[K     |███████████████████████████████▉| 81 kB 15.4 MB/s eta 0:00:01\r\u001b[K     |████████████████████████████████| 82 kB 385 kB/s \n",
            "\u001b[?25hRequirement already satisfied: scikit-learn>=0.20.0 in /usr/local/lib/python3.7/dist-packages (from category_encoders) (1.0.1)\n",
            "Requirement already satisfied: patsy>=0.5.1 in /usr/local/lib/python3.7/dist-packages (from category_encoders) (0.5.2)\n",
            "Requirement already satisfied: scipy>=1.0.0 in /usr/local/lib/python3.7/dist-packages (from category_encoders) (1.4.1)\n",
            "Requirement already satisfied: pandas>=0.21.1 in /usr/local/lib/python3.7/dist-packages (from category_encoders) (1.1.5)\n",
            "Requirement already satisfied: statsmodels>=0.9.0 in /usr/local/lib/python3.7/dist-packages (from category_encoders) (0.10.2)\n",
            "Requirement already satisfied: numpy>=1.14.0 in /usr/local/lib/python3.7/dist-packages (from category_encoders) (1.19.5)\n",
            "Requirement already satisfied: pytz>=2017.2 in /usr/local/lib/python3.7/dist-packages (from pandas>=0.21.1->category_encoders) (2018.9)\n",
            "Requirement already satisfied: python-dateutil>=2.7.3 in /usr/local/lib/python3.7/dist-packages (from pandas>=0.21.1->category_encoders) (2.8.2)\n",
            "Requirement already satisfied: six in /usr/local/lib/python3.7/dist-packages (from patsy>=0.5.1->category_encoders) (1.15.0)\n",
            "Requirement already satisfied: threadpoolctl>=2.0.0 in /usr/local/lib/python3.7/dist-packages (from scikit-learn>=0.20.0->category_encoders) (3.0.0)\n",
            "Requirement already satisfied: joblib>=0.11 in /usr/local/lib/python3.7/dist-packages (from scikit-learn>=0.20.0->category_encoders) (1.1.0)\n",
            "Installing collected packages: category-encoders\n",
            "Successfully installed category-encoders-2.3.0\n"
          ]
        }
      ],
      "source": [
        "!pip install category_encoders"
      ]
    },
    {
      "cell_type": "code",
      "execution_count": null,
      "metadata": {
        "colab": {
          "base_uri": "https://localhost:8080/"
        },
        "id": "m1P0jmWlYDBK",
        "outputId": "0a863f20-654b-4960-f486-1a571a93f9d4"
      },
      "outputs": [
        {
          "output_type": "stream",
          "name": "stdout",
          "text": [
            "Reading package lists... Done\n",
            "Building dependency tree       \n",
            "Reading state information... Done\n",
            "The following NEW packages will be installed:\n",
            "  fonts-nanum\n",
            "0 upgraded, 1 newly installed, 0 to remove and 37 not upgraded.\n",
            "Need to get 9,604 kB of archives.\n",
            "After this operation, 29.5 MB of additional disk space will be used.\n",
            "Get:1 http://archive.ubuntu.com/ubuntu bionic/universe amd64 fonts-nanum all 20170925-1 [9,604 kB]\n",
            "Fetched 9,604 kB in 0s (45.6 MB/s)\n",
            "debconf: unable to initialize frontend: Dialog\n",
            "debconf: (No usable dialog-like program is installed, so the dialog based frontend cannot be used. at /usr/share/perl5/Debconf/FrontEnd/Dialog.pm line 76, <> line 1.)\n",
            "debconf: falling back to frontend: Readline\n",
            "debconf: unable to initialize frontend: Readline\n",
            "debconf: (This frontend requires a controlling tty.)\n",
            "debconf: falling back to frontend: Teletype\n",
            "dpkg-preconfigure: unable to re-open stdin: \n",
            "Selecting previously unselected package fonts-nanum.\n",
            "(Reading database ... 155222 files and directories currently installed.)\n",
            "Preparing to unpack .../fonts-nanum_20170925-1_all.deb ...\n",
            "Unpacking fonts-nanum (20170925-1) ...\n",
            "Setting up fonts-nanum (20170925-1) ...\n",
            "Processing triggers for fontconfig (2.12.6-0ubuntu2) ...\n",
            "/usr/share/fonts: caching, new cache contents: 0 fonts, 1 dirs\n",
            "/usr/share/fonts/truetype: caching, new cache contents: 0 fonts, 3 dirs\n",
            "/usr/share/fonts/truetype/humor-sans: caching, new cache contents: 1 fonts, 0 dirs\n",
            "/usr/share/fonts/truetype/liberation: caching, new cache contents: 16 fonts, 0 dirs\n",
            "/usr/share/fonts/truetype/nanum: caching, new cache contents: 10 fonts, 0 dirs\n",
            "/usr/local/share/fonts: caching, new cache contents: 0 fonts, 0 dirs\n",
            "/root/.local/share/fonts: skipping, no such directory\n",
            "/root/.fonts: skipping, no such directory\n",
            "/var/cache/fontconfig: cleaning cache directory\n",
            "/root/.cache/fontconfig: not cleaning non-existent cache directory\n",
            "/root/.fontconfig: not cleaning non-existent cache directory\n",
            "fc-cache: succeeded\n"
          ]
        }
      ],
      "source": [
        "# plot에 한국어 적용 \n",
        "!sudo apt-get install -y fonts-nanum\n",
        "!sudo fc-cache -fv\n",
        "!rm ~/.cache/matplotlib -rf"
      ]
    },
    {
      "cell_type": "code",
      "execution_count": null,
      "metadata": {
        "id": "hF2IWjbzRcbb"
      },
      "outputs": [],
      "source": [
        "import numpy as np\n",
        "import pandas as pd\n",
        "import seaborn as sns\n",
        "import xgboost\n",
        "import shap\n",
        "import matplotlib.pyplot as plt\n",
        "from sklearn.model_selection import train_test_split\n",
        "from sklearn.pipeline import make_pipeline\n",
        "from category_encoders import OneHotEncoder, OrdinalEncoder\n",
        "from sklearn.impute import SimpleImputer\n",
        "# from sklearn.ensemble import RandomForestClassifier\n",
        "from sklearn.metrics import accuracy_score, mean_absolute_error, r2_score, mean_squared_error\n",
        "from sklearn.model_selection import RandomizedSearchCV\n",
        "# from pdpbox.pdp import pdp_isolate, pdp_plot, pdp_interact, pdp_interact_plot"
      ]
    },
    {
      "cell_type": "code",
      "execution_count": null,
      "metadata": {
        "colab": {
          "base_uri": "https://localhost:8080/",
          "height": 225
        },
        "id": "BVxG4PIfSLnb",
        "outputId": "1e4db48b-11b8-44b0-e162-6e21587dc0e1"
      },
      "outputs": [
        {
          "output_type": "stream",
          "name": "stdout",
          "text": [
            "(11567, 10)\n"
          ]
        },
        {
          "output_type": "execute_result",
          "data": {
            "text/html": [
              "<div>\n",
              "<style scoped>\n",
              "    .dataframe tbody tr th:only-of-type {\n",
              "        vertical-align: middle;\n",
              "    }\n",
              "\n",
              "    .dataframe tbody tr th {\n",
              "        vertical-align: top;\n",
              "    }\n",
              "\n",
              "    .dataframe thead th {\n",
              "        text-align: right;\n",
              "    }\n",
              "</style>\n",
              "<table border=\"1\" class=\"dataframe\">\n",
              "  <thead>\n",
              "    <tr style=\"text-align: right;\">\n",
              "      <th></th>\n",
              "      <th>id</th>\n",
              "      <th>spot_name</th>\n",
              "      <th>ymd</th>\n",
              "      <th>pm10</th>\n",
              "      <th>pm25</th>\n",
              "      <th>O3</th>\n",
              "      <th>NO2</th>\n",
              "      <th>CO</th>\n",
              "      <th>SO2</th>\n",
              "      <th>vol</th>\n",
              "    </tr>\n",
              "  </thead>\n",
              "  <tbody>\n",
              "    <tr>\n",
              "      <th>0</th>\n",
              "      <td>1</td>\n",
              "      <td>종로구</td>\n",
              "      <td>2021-01-01 00:00</td>\n",
              "      <td>26.0</td>\n",
              "      <td>14.0</td>\n",
              "      <td>0.024</td>\n",
              "      <td>0.015</td>\n",
              "      <td>0.5</td>\n",
              "      <td>0.003</td>\n",
              "      <td>25.0</td>\n",
              "    </tr>\n",
              "    <tr>\n",
              "      <th>1</th>\n",
              "      <td>2</td>\n",
              "      <td>용산구</td>\n",
              "      <td>2021-01-01 00:00</td>\n",
              "      <td>36.0</td>\n",
              "      <td>11.0</td>\n",
              "      <td>0.017</td>\n",
              "      <td>0.017</td>\n",
              "      <td>0.4</td>\n",
              "      <td>0.003</td>\n",
              "      <td>162.0</td>\n",
              "    </tr>\n",
              "    <tr>\n",
              "      <th>2</th>\n",
              "      <td>3</td>\n",
              "      <td>중구</td>\n",
              "      <td>2021-01-01 00:00</td>\n",
              "      <td>29.0</td>\n",
              "      <td>16.0</td>\n",
              "      <td>0.018</td>\n",
              "      <td>0.021</td>\n",
              "      <td>0.5</td>\n",
              "      <td>0.003</td>\n",
              "      <td>116.0</td>\n",
              "    </tr>\n",
              "    <tr>\n",
              "      <th>3</th>\n",
              "      <td>4</td>\n",
              "      <td>은평구</td>\n",
              "      <td>2021-01-01 00:00</td>\n",
              "      <td>32.0</td>\n",
              "      <td>11.0</td>\n",
              "      <td>0.021</td>\n",
              "      <td>0.018</td>\n",
              "      <td>0.5</td>\n",
              "      <td>0.004</td>\n",
              "      <td>215.0</td>\n",
              "    </tr>\n",
              "    <tr>\n",
              "      <th>4</th>\n",
              "      <td>6</td>\n",
              "      <td>마포구</td>\n",
              "      <td>2021-01-01 00:00</td>\n",
              "      <td>23.0</td>\n",
              "      <td>12.0</td>\n",
              "      <td>0.011</td>\n",
              "      <td>0.029</td>\n",
              "      <td>0.5</td>\n",
              "      <td>0.003</td>\n",
              "      <td>30.0</td>\n",
              "    </tr>\n",
              "  </tbody>\n",
              "</table>\n",
              "</div>"
            ],
            "text/plain": [
              "   id spot_name               ymd  pm10  pm25     O3    NO2   CO    SO2    vol\n",
              "0   1       종로구  2021-01-01 00:00  26.0  14.0  0.024  0.015  0.5  0.003   25.0\n",
              "1   2       용산구  2021-01-01 00:00  36.0  11.0  0.017  0.017  0.4  0.003  162.0\n",
              "2   3        중구  2021-01-01 00:00  29.0  16.0  0.018  0.021  0.5  0.003  116.0\n",
              "3   4       은평구  2021-01-01 00:00  32.0  11.0  0.021  0.018  0.5  0.004  215.0\n",
              "4   6       마포구  2021-01-01 00:00  23.0  12.0  0.011  0.029  0.5  0.003   30.0"
            ]
          },
          "metadata": {},
          "execution_count": 5
        }
      ],
      "source": [
        "df = pd.read_csv('/content/drive/MyDrive/codestates/Section3/test.csv', encoding='cp949')\n",
        "print(df.shape)\n",
        "df.head()"
      ]
    },
    {
      "cell_type": "markdown",
      "metadata": {
        "id": "TUkWaBmyY7mC"
      },
      "source": [
        "결측치 제거"
      ]
    },
    {
      "cell_type": "code",
      "execution_count": null,
      "metadata": {
        "colab": {
          "base_uri": "https://localhost:8080/",
          "height": 407
        },
        "id": "wzp7boTUSLpf",
        "outputId": "d875e0c3-b96a-4581-f13b-deb53b995a3b"
      },
      "outputs": [
        {
          "output_type": "stream",
          "name": "stdout",
          "text": [
            "id           0\n",
            "spot_name    0\n",
            "ymd          0\n",
            "pm10         0\n",
            "pm25         0\n",
            "O3           0\n",
            "NO2          0\n",
            "CO           0\n",
            "SO2          0\n",
            "vol          0\n",
            "dtype: int64\n"
          ]
        },
        {
          "output_type": "execute_result",
          "data": {
            "text/html": [
              "<div>\n",
              "<style scoped>\n",
              "    .dataframe tbody tr th:only-of-type {\n",
              "        vertical-align: middle;\n",
              "    }\n",
              "\n",
              "    .dataframe tbody tr th {\n",
              "        vertical-align: top;\n",
              "    }\n",
              "\n",
              "    .dataframe thead th {\n",
              "        text-align: right;\n",
              "    }\n",
              "</style>\n",
              "<table border=\"1\" class=\"dataframe\">\n",
              "  <thead>\n",
              "    <tr style=\"text-align: right;\">\n",
              "      <th></th>\n",
              "      <th>spot_name</th>\n",
              "      <th>ymd</th>\n",
              "      <th>pm10</th>\n",
              "      <th>pm25</th>\n",
              "      <th>O3</th>\n",
              "      <th>NO2</th>\n",
              "      <th>CO</th>\n",
              "      <th>SO2</th>\n",
              "      <th>vol</th>\n",
              "    </tr>\n",
              "  </thead>\n",
              "  <tbody>\n",
              "    <tr>\n",
              "      <th>0</th>\n",
              "      <td>종로구</td>\n",
              "      <td>2021-01-01 00:00</td>\n",
              "      <td>26.0</td>\n",
              "      <td>14.0</td>\n",
              "      <td>0.024</td>\n",
              "      <td>0.015</td>\n",
              "      <td>0.5</td>\n",
              "      <td>0.003</td>\n",
              "      <td>25.0</td>\n",
              "    </tr>\n",
              "    <tr>\n",
              "      <th>1</th>\n",
              "      <td>용산구</td>\n",
              "      <td>2021-01-01 00:00</td>\n",
              "      <td>36.0</td>\n",
              "      <td>11.0</td>\n",
              "      <td>0.017</td>\n",
              "      <td>0.017</td>\n",
              "      <td>0.4</td>\n",
              "      <td>0.003</td>\n",
              "      <td>162.0</td>\n",
              "    </tr>\n",
              "    <tr>\n",
              "      <th>2</th>\n",
              "      <td>중구</td>\n",
              "      <td>2021-01-01 00:00</td>\n",
              "      <td>29.0</td>\n",
              "      <td>16.0</td>\n",
              "      <td>0.018</td>\n",
              "      <td>0.021</td>\n",
              "      <td>0.5</td>\n",
              "      <td>0.003</td>\n",
              "      <td>116.0</td>\n",
              "    </tr>\n",
              "    <tr>\n",
              "      <th>3</th>\n",
              "      <td>은평구</td>\n",
              "      <td>2021-01-01 00:00</td>\n",
              "      <td>32.0</td>\n",
              "      <td>11.0</td>\n",
              "      <td>0.021</td>\n",
              "      <td>0.018</td>\n",
              "      <td>0.5</td>\n",
              "      <td>0.004</td>\n",
              "      <td>215.0</td>\n",
              "    </tr>\n",
              "    <tr>\n",
              "      <th>4</th>\n",
              "      <td>마포구</td>\n",
              "      <td>2021-01-01 00:00</td>\n",
              "      <td>23.0</td>\n",
              "      <td>12.0</td>\n",
              "      <td>0.011</td>\n",
              "      <td>0.029</td>\n",
              "      <td>0.5</td>\n",
              "      <td>0.003</td>\n",
              "      <td>30.0</td>\n",
              "    </tr>\n",
              "  </tbody>\n",
              "</table>\n",
              "</div>"
            ],
            "text/plain": [
              "  spot_name               ymd  pm10  pm25     O3    NO2   CO    SO2    vol\n",
              "0       종로구  2021-01-01 00:00  26.0  14.0  0.024  0.015  0.5  0.003   25.0\n",
              "1       용산구  2021-01-01 00:00  36.0  11.0  0.017  0.017  0.4  0.003  162.0\n",
              "2        중구  2021-01-01 00:00  29.0  16.0  0.018  0.021  0.5  0.003  116.0\n",
              "3       은평구  2021-01-01 00:00  32.0  11.0  0.021  0.018  0.5  0.004  215.0\n",
              "4       마포구  2021-01-01 00:00  23.0  12.0  0.011  0.029  0.5  0.003   30.0"
            ]
          },
          "metadata": {},
          "execution_count": 13
        }
      ],
      "source": [
        "print(df.isnull().sum())\n",
        "df = df.drop(columns='id')\n",
        "df.head()"
      ]
    },
    {
      "cell_type": "code",
      "execution_count": null,
      "metadata": {
        "colab": {
          "base_uri": "https://localhost:8080/",
          "height": 225
        },
        "id": "xBpNigcOSLrb",
        "outputId": "a49c8700-e0b0-4acd-a604-7ac2bbae3bd5"
      },
      "outputs": [
        {
          "output_type": "stream",
          "name": "stdout",
          "text": [
            "(10251, 10)\n"
          ]
        },
        {
          "output_type": "execute_result",
          "data": {
            "text/html": [
              "<div>\n",
              "<style scoped>\n",
              "    .dataframe tbody tr th:only-of-type {\n",
              "        vertical-align: middle;\n",
              "    }\n",
              "\n",
              "    .dataframe tbody tr th {\n",
              "        vertical-align: top;\n",
              "    }\n",
              "\n",
              "    .dataframe thead th {\n",
              "        text-align: right;\n",
              "    }\n",
              "</style>\n",
              "<table border=\"1\" class=\"dataframe\">\n",
              "  <thead>\n",
              "    <tr style=\"text-align: right;\">\n",
              "      <th></th>\n",
              "      <th>id</th>\n",
              "      <th>spot_name</th>\n",
              "      <th>ymd</th>\n",
              "      <th>pm10</th>\n",
              "      <th>pm25</th>\n",
              "      <th>O3</th>\n",
              "      <th>NO2</th>\n",
              "      <th>CO</th>\n",
              "      <th>SO2</th>\n",
              "      <th>vol</th>\n",
              "    </tr>\n",
              "  </thead>\n",
              "  <tbody>\n",
              "    <tr>\n",
              "      <th>0</th>\n",
              "      <td>1</td>\n",
              "      <td>종로구</td>\n",
              "      <td>2021-01-01 00:00</td>\n",
              "      <td>26.0</td>\n",
              "      <td>14.0</td>\n",
              "      <td>0.024</td>\n",
              "      <td>0.015</td>\n",
              "      <td>0.5</td>\n",
              "      <td>0.003</td>\n",
              "      <td>25.0</td>\n",
              "    </tr>\n",
              "    <tr>\n",
              "      <th>1</th>\n",
              "      <td>2</td>\n",
              "      <td>용산구</td>\n",
              "      <td>2021-01-01 00:00</td>\n",
              "      <td>36.0</td>\n",
              "      <td>11.0</td>\n",
              "      <td>0.017</td>\n",
              "      <td>0.017</td>\n",
              "      <td>0.4</td>\n",
              "      <td>0.003</td>\n",
              "      <td>162.0</td>\n",
              "    </tr>\n",
              "    <tr>\n",
              "      <th>2</th>\n",
              "      <td>3</td>\n",
              "      <td>중구</td>\n",
              "      <td>2021-01-01 00:00</td>\n",
              "      <td>29.0</td>\n",
              "      <td>16.0</td>\n",
              "      <td>0.018</td>\n",
              "      <td>0.021</td>\n",
              "      <td>0.5</td>\n",
              "      <td>0.003</td>\n",
              "      <td>116.0</td>\n",
              "    </tr>\n",
              "    <tr>\n",
              "      <th>3</th>\n",
              "      <td>4</td>\n",
              "      <td>은평구</td>\n",
              "      <td>2021-01-01 00:00</td>\n",
              "      <td>32.0</td>\n",
              "      <td>11.0</td>\n",
              "      <td>0.021</td>\n",
              "      <td>0.018</td>\n",
              "      <td>0.5</td>\n",
              "      <td>0.004</td>\n",
              "      <td>215.0</td>\n",
              "    </tr>\n",
              "    <tr>\n",
              "      <th>4</th>\n",
              "      <td>6</td>\n",
              "      <td>마포구</td>\n",
              "      <td>2021-01-01 00:00</td>\n",
              "      <td>23.0</td>\n",
              "      <td>12.0</td>\n",
              "      <td>0.011</td>\n",
              "      <td>0.029</td>\n",
              "      <td>0.5</td>\n",
              "      <td>0.003</td>\n",
              "      <td>30.0</td>\n",
              "    </tr>\n",
              "  </tbody>\n",
              "</table>\n",
              "</div>"
            ],
            "text/plain": [
              "   id spot_name               ymd  pm10  pm25     O3    NO2   CO    SO2    vol\n",
              "0   1       종로구  2021-01-01 00:00  26.0  14.0  0.024  0.015  0.5  0.003   25.0\n",
              "1   2       용산구  2021-01-01 00:00  36.0  11.0  0.017  0.017  0.4  0.003  162.0\n",
              "2   3        중구  2021-01-01 00:00  29.0  16.0  0.018  0.021  0.5  0.003  116.0\n",
              "3   4       은평구  2021-01-01 00:00  32.0  11.0  0.021  0.018  0.5  0.004  215.0\n",
              "4   6       마포구  2021-01-01 00:00  23.0  12.0  0.011  0.029  0.5  0.003   30.0"
            ]
          },
          "metadata": {},
          "execution_count": 8
        }
      ],
      "source": [
        "df = df.drop(df[df['vol']==0].index)\n",
        "df = df.reset_index(drop=True)\n",
        "print(df.shape)\n",
        "df.head()"
      ]
    },
    {
      "cell_type": "markdown",
      "source": [
        "데이터 시각화"
      ],
      "metadata": {
        "id": "yxQNgads3mqh"
      }
    },
    {
      "cell_type": "code",
      "execution_count": null,
      "metadata": {
        "colab": {
          "base_uri": "https://localhost:8080/",
          "height": 349
        },
        "id": "EtClT20ySLv9",
        "outputId": "e848ad85-37ca-4dda-e795-a0764c98f791"
      },
      "outputs": [
        {
          "output_type": "display_data",
          "data": {
            "image/png": "[encoded data removed]",
            "text/plain": [
              "<Figure size 1080x360 with 1 Axes>"
            ]
          },
          "metadata": {
            "needs_background": "light"
          }
        }
      ],
      "source": [
        "plt.rc('font', family='NanumBarunGothic') \n",
        "plt.subplots(figsize=(15, 5))\n",
        "plt.title('서울시 21개의 지역구별 측정 횟수')\n",
        "sns.countplot(x='spot_name', data=df, color='#FF96b2');"
      ]
    },
    {
      "cell_type": "code",
      "execution_count": null,
      "metadata": {
        "colab": {
          "base_uri": "https://localhost:8080/",
          "height": 349
        },
        "id": "9ggmV_ewSLyI",
        "outputId": "c32faca4-d594-4206-df78-9e14ed8f341d"
      },
      "outputs": [
        {
          "output_type": "display_data",
          "data": {
            "image/png": "[encoded data removed]",
            "text/plain": [
              "<Figure size 1080x360 with 1 Axes>"
            ]
          },
          "metadata": {
            "needs_background": "light"
          }
        }
      ],
      "source": [
        "plt.subplots(figsize=(15, 5))\n",
        "plt.title('서울시 21개의 지역구별 평균 교통량')\n",
        "group_spot = df[['spot_name', 'vol']].groupby('spot_name').mean().sort_values('vol', ascending=False).reset_index()\n",
        "sns.barplot(x='spot_name', y='vol', data=group_spot, color='#FF9bb2');"
      ]
    },
    {
      "cell_type": "code",
      "execution_count": null,
      "metadata": {
        "colab": {
          "base_uri": "https://localhost:8080/",
          "height": 349
        },
        "id": "2tiPXQTLSL0r",
        "outputId": "49119d91-6631-47cb-fe08-5b17130e64a6"
      },
      "outputs": [
        {
          "output_type": "display_data",
          "data": {
            "image/png": "[encoded data removed]",
            "text/plain": [
              "<Figure size 720x360 with 1 Axes>"
            ]
          },
          "metadata": {
            "needs_background": "light"
          }
        }
      ],
      "source": [
        "df['hour'] = df['ymd'].apply(lambda x :int(x.split()[1].split(':')[0]))\n",
        "group_time = df[['hour', 'vol']].groupby('hour').mean().sort_values('vol', ascending=False).reset_index()\n",
        "plt.subplots(figsize=(10, 5))\n",
        "plt.title('하루 평균 시간대별 교통량')\n",
        "sns.barplot(x='hour', y='vol', data=group_time, color='#FF96b2');\n",
        "df = df.drop(columns='ymd')"
      ]
    },
    {
      "cell_type": "code",
      "source": [
        "cnt = 1\n",
        "plt.subplots(figsize=(15, 10))\n",
        "for column in df.columns[3:7]:\n",
        "  grouy_weather = df[['hour', column]].groupby('hour').mean().sort_values(column, ascending=False).reset_index()\n",
        "  plt.subplot(2, 2, cnt)\n",
        "  plt.title('하루 평균 시간대별 ' + column)\n",
        "  sns.barplot(x='hour', y=column, data=grouy_weather, color='#FB96a2');\n",
        "  cnt+=1"
      ],
      "metadata": {
        "colab": {
          "base_uri": "https://localhost:8080/",
          "height": 620
        },
        "id": "n5CEI5eA8S0u",
        "outputId": "78647f2f-165b-4132-c0ba-d501551f6767"
      },
      "execution_count": null,
      "outputs": [
        {
          "output_type": "display_data",
          "data": {
            "image/png": "[encoded data removed]",
            "text/plain": [
              "<Figure size 1080x720 with 4 Axes>"
            ]
          },
          "metadata": {
            "needs_background": "light"
          }
        }
      ]
    },
    {
      "cell_type": "markdown",
      "source": [
        "Training 준비"
      ],
      "metadata": {
        "id": "sCRvF0CP27Gv"
      }
    },
    {
      "cell_type": "code",
      "execution_count": null,
      "metadata": {
        "colab": {
          "base_uri": "https://localhost:8080/"
        },
        "id": "KYCtPlelSL4z",
        "outputId": "96afdb17-ba77-4b20-a79b-9723668645bb"
      },
      "outputs": [
        {
          "output_type": "execute_result",
          "data": {
            "text/plain": [
              "((8277, 9), (1461, 9), (513, 9))"
            ]
          },
          "metadata": {},
          "execution_count": 18
        }
      ],
      "source": [
        "train = df.copy()\n",
        "train, test = train_test_split(train, test_size=0.05, random_state=2)\n",
        "train, val = train_test_split(train, test_size=0.15, random_state=2)\n",
        "train.shape, val.shape, test.shape"
      ]
    },
    {
      "cell_type": "code",
      "execution_count": null,
      "metadata": {
        "id": "cUFWCONthCrT"
      },
      "outputs": [],
      "source": [
        "target = 'vol'\n",
        "features = train.drop(columns=[target]).columns\n",
        "\n",
        "X_train = train[features]\n",
        "y_train = train[target]\n",
        "X_val = val[features]\n",
        "y_val = val[target]\n",
        "X_test = test[features]\n",
        "y_test = test[target]"
      ]
    },
    {
      "cell_type": "code",
      "execution_count": null,
      "metadata": {
        "colab": {
          "base_uri": "https://localhost:8080/"
        },
        "id": "iK7eQd9uhCvi",
        "outputId": "0c2f4228-486d-4dea-e4ad-cefbdfe30f4e"
      },
      "outputs": [
        {
          "output_type": "stream",
          "name": "stdout",
          "text": [
            "기준모델 mae: 193.44522517707196\n"
          ]
        }
      ],
      "source": [
        "# 기준 모델\n",
        "y_pred = y_train.mean()\n",
        "y_pred = [y_pred] * len(y_train)\n",
        "baseline = mean_absolute_error(y_train, y_pred)\n",
        "print('기준모델 mae:', baseline)"
      ]
    },
    {
      "cell_type": "code",
      "execution_count": null,
      "metadata": {
        "colab": {
          "base_uri": "https://localhost:8080/"
        },
        "id": "lgMNB8MehCxv",
        "outputId": "88a1b0b0-0ffb-4734-e513-1b63f9e584bd"
      },
      "outputs": [
        {
          "output_type": "stream",
          "name": "stdout",
          "text": [
            "[0]\tvalidation_0-rmse:283.925\tvalidation_1-rmse:284.485\n",
            "Multiple eval metrics have been passed: 'validation_1-rmse' will be used for early stopping.\n",
            "\n",
            "Will train until validation_1-rmse hasn't improved in 50 rounds.\n",
            "[1]\tvalidation_0-rmse:246.546\tvalidation_1-rmse:247.665\n",
            "[2]\tvalidation_0-rmse:218.829\tvalidation_1-rmse:220.434\n",
            "[3]\tvalidation_0-rmse:197.011\tvalidation_1-rmse:198.838\n",
            "[4]\tvalidation_0-rmse:181.706\tvalidation_1-rmse:183.635\n",
            "[5]\tvalidation_0-rmse:170.849\tvalidation_1-rmse:172.711\n",
            "[6]\tvalidation_0-rmse:163.007\tvalidation_1-rmse:165.249\n",
            "[7]\tvalidation_0-rmse:156.768\tvalidation_1-rmse:158.244\n",
            "[8]\tvalidation_0-rmse:149.82\tvalidation_1-rmse:151.454\n",
            "[9]\tvalidation_0-rmse:146.172\tvalidation_1-rmse:147.677\n",
            "[10]\tvalidation_0-rmse:140.585\tvalidation_1-rmse:142.279\n",
            "[11]\tvalidation_0-rmse:136.057\tvalidation_1-rmse:137.165\n",
            "[12]\tvalidation_0-rmse:133.75\tvalidation_1-rmse:135.15\n",
            "[13]\tvalidation_0-rmse:132.332\tvalidation_1-rmse:133.541\n",
            "[14]\tvalidation_0-rmse:129.45\tvalidation_1-rmse:130.879\n",
            "[15]\tvalidation_0-rmse:128.284\tvalidation_1-rmse:129.58\n",
            "[16]\tvalidation_0-rmse:123.676\tvalidation_1-rmse:124.556\n",
            "[17]\tvalidation_0-rmse:121.833\tvalidation_1-rmse:122.576\n",
            "[18]\tvalidation_0-rmse:121.054\tvalidation_1-rmse:121.852\n",
            "[19]\tvalidation_0-rmse:117.915\tvalidation_1-rmse:118.26\n",
            "[20]\tvalidation_0-rmse:116.693\tvalidation_1-rmse:116.904\n",
            "[21]\tvalidation_0-rmse:115.814\tvalidation_1-rmse:116.222\n",
            "[22]\tvalidation_0-rmse:113.104\tvalidation_1-rmse:113.486\n",
            "[23]\tvalidation_0-rmse:110.687\tvalidation_1-rmse:111.571\n",
            "[24]\tvalidation_0-rmse:109.295\tvalidation_1-rmse:110.13\n",
            "[25]\tvalidation_0-rmse:108.667\tvalidation_1-rmse:109.775\n",
            "[26]\tvalidation_0-rmse:107.779\tvalidation_1-rmse:108.835\n",
            "[27]\tvalidation_0-rmse:106.048\tvalidation_1-rmse:106.754\n",
            "[28]\tvalidation_0-rmse:104.506\tvalidation_1-rmse:105.58\n",
            "[29]\tvalidation_0-rmse:104.066\tvalidation_1-rmse:105.267\n",
            "[30]\tvalidation_0-rmse:103.383\tvalidation_1-rmse:104.858\n",
            "[31]\tvalidation_0-rmse:102.783\tvalidation_1-rmse:104.142\n",
            "[32]\tvalidation_0-rmse:101.702\tvalidation_1-rmse:102.767\n",
            "[33]\tvalidation_0-rmse:100.263\tvalidation_1-rmse:101.523\n",
            "[34]\tvalidation_0-rmse:99.3292\tvalidation_1-rmse:100.65\n",
            "[35]\tvalidation_0-rmse:98.9007\tvalidation_1-rmse:100.196\n",
            "[36]\tvalidation_0-rmse:98.4736\tvalidation_1-rmse:99.8392\n",
            "[37]\tvalidation_0-rmse:98.1949\tvalidation_1-rmse:99.635\n",
            "[38]\tvalidation_0-rmse:97.7128\tvalidation_1-rmse:99.2866\n",
            "[39]\tvalidation_0-rmse:97.4237\tvalidation_1-rmse:99.009\n",
            "[40]\tvalidation_0-rmse:97.081\tvalidation_1-rmse:98.8337\n",
            "[41]\tvalidation_0-rmse:96.8592\tvalidation_1-rmse:98.6938\n",
            "[42]\tvalidation_0-rmse:96.2452\tvalidation_1-rmse:97.9487\n",
            "[43]\tvalidation_0-rmse:95.3833\tvalidation_1-rmse:97.1489\n",
            "[44]\tvalidation_0-rmse:95.0005\tvalidation_1-rmse:96.9561\n",
            "[45]\tvalidation_0-rmse:94.5871\tvalidation_1-rmse:96.437\n",
            "[46]\tvalidation_0-rmse:94.2643\tvalidation_1-rmse:96.3077\n",
            "[47]\tvalidation_0-rmse:94.0785\tvalidation_1-rmse:96.2532\n",
            "[48]\tvalidation_0-rmse:93.9329\tvalidation_1-rmse:96.2306\n",
            "[49]\tvalidation_0-rmse:93.3923\tvalidation_1-rmse:95.7836\n",
            "[50]\tvalidation_0-rmse:92.9021\tvalidation_1-rmse:95.3337\n",
            "[51]\tvalidation_0-rmse:92.5894\tvalidation_1-rmse:94.9539\n",
            "[52]\tvalidation_0-rmse:92.3466\tvalidation_1-rmse:94.8661\n",
            "[53]\tvalidation_0-rmse:91.9042\tvalidation_1-rmse:94.4462\n",
            "[54]\tvalidation_0-rmse:91.7335\tvalidation_1-rmse:94.2961\n",
            "[55]\tvalidation_0-rmse:91.5684\tvalidation_1-rmse:94.2234\n",
            "[56]\tvalidation_0-rmse:91.2269\tvalidation_1-rmse:93.9346\n",
            "[57]\tvalidation_0-rmse:91.1198\tvalidation_1-rmse:93.9121\n",
            "[58]\tvalidation_0-rmse:90.9879\tvalidation_1-rmse:93.8429\n",
            "[59]\tvalidation_0-rmse:90.3028\tvalidation_1-rmse:93.3287\n",
            "[60]\tvalidation_0-rmse:90.1097\tvalidation_1-rmse:93.1415\n",
            "[61]\tvalidation_0-rmse:89.8196\tvalidation_1-rmse:92.9944\n",
            "[62]\tvalidation_0-rmse:89.6406\tvalidation_1-rmse:92.9386\n",
            "[63]\tvalidation_0-rmse:89.4931\tvalidation_1-rmse:92.8156\n",
            "[64]\tvalidation_0-rmse:89.3663\tvalidation_1-rmse:92.7329\n",
            "[65]\tvalidation_0-rmse:89.3121\tvalidation_1-rmse:92.6977\n",
            "[66]\tvalidation_0-rmse:89.2127\tvalidation_1-rmse:92.7187\n",
            "[67]\tvalidation_0-rmse:89.1311\tvalidation_1-rmse:92.7127\n",
            "[68]\tvalidation_0-rmse:88.988\tvalidation_1-rmse:92.7045\n",
            "[69]\tvalidation_0-rmse:88.8965\tvalidation_1-rmse:92.7032\n",
            "[70]\tvalidation_0-rmse:88.8403\tvalidation_1-rmse:92.6756\n",
            "[71]\tvalidation_0-rmse:88.6739\tvalidation_1-rmse:92.7322\n",
            "[72]\tvalidation_0-rmse:88.6426\tvalidation_1-rmse:92.722\n",
            "[73]\tvalidation_0-rmse:88.4649\tvalidation_1-rmse:92.5839\n",
            "[74]\tvalidation_0-rmse:88.0551\tvalidation_1-rmse:92.607\n",
            "[75]\tvalidation_0-rmse:87.9804\tvalidation_1-rmse:92.6183\n",
            "[76]\tvalidation_0-rmse:87.7587\tvalidation_1-rmse:92.4678\n",
            "[77]\tvalidation_0-rmse:87.6063\tvalidation_1-rmse:92.4695\n",
            "[78]\tvalidation_0-rmse:87.5642\tvalidation_1-rmse:92.477\n",
            "[79]\tvalidation_0-rmse:87.5387\tvalidation_1-rmse:92.4769\n",
            "[80]\tvalidation_0-rmse:87.4355\tvalidation_1-rmse:92.3788\n",
            "[81]\tvalidation_0-rmse:87.339\tvalidation_1-rmse:92.3971\n",
            "[82]\tvalidation_0-rmse:87.2167\tvalidation_1-rmse:92.4057\n",
            "[83]\tvalidation_0-rmse:87.1968\tvalidation_1-rmse:92.4113\n",
            "[84]\tvalidation_0-rmse:87.1501\tvalidation_1-rmse:92.408\n",
            "[85]\tvalidation_0-rmse:86.9679\tvalidation_1-rmse:92.1883\n",
            "[86]\tvalidation_0-rmse:86.8567\tvalidation_1-rmse:92.1087\n",
            "[87]\tvalidation_0-rmse:86.7705\tvalidation_1-rmse:92.0773\n",
            "[88]\tvalidation_0-rmse:86.7071\tvalidation_1-rmse:92.0931\n",
            "[89]\tvalidation_0-rmse:86.6496\tvalidation_1-rmse:92.061\n",
            "[90]\tvalidation_0-rmse:86.6272\tvalidation_1-rmse:92.0733\n",
            "[91]\tvalidation_0-rmse:86.5719\tvalidation_1-rmse:92.0162\n",
            "[92]\tvalidation_0-rmse:86.4924\tvalidation_1-rmse:91.9823\n",
            "[93]\tvalidation_0-rmse:86.4235\tvalidation_1-rmse:91.9311\n",
            "[94]\tvalidation_0-rmse:86.3605\tvalidation_1-rmse:91.8917\n",
            "[95]\tvalidation_0-rmse:86.1966\tvalidation_1-rmse:91.8176\n",
            "[96]\tvalidation_0-rmse:85.8233\tvalidation_1-rmse:91.7914\n",
            "[97]\tvalidation_0-rmse:85.6348\tvalidation_1-rmse:91.7592\n",
            "[98]\tvalidation_0-rmse:85.557\tvalidation_1-rmse:91.6908\n",
            "[99]\tvalidation_0-rmse:85.4653\tvalidation_1-rmse:91.6772\n",
            "[100]\tvalidation_0-rmse:85.3009\tvalidation_1-rmse:91.5546\n",
            "[101]\tvalidation_0-rmse:84.8306\tvalidation_1-rmse:91.2328\n",
            "[102]\tvalidation_0-rmse:84.7871\tvalidation_1-rmse:91.1847\n",
            "[103]\tvalidation_0-rmse:84.7563\tvalidation_1-rmse:91.1881\n",
            "[104]\tvalidation_0-rmse:84.7381\tvalidation_1-rmse:91.1996\n",
            "[105]\tvalidation_0-rmse:84.6857\tvalidation_1-rmse:91.2066\n",
            "[106]\tvalidation_0-rmse:84.5459\tvalidation_1-rmse:91.1574\n",
            "[107]\tvalidation_0-rmse:84.4538\tvalidation_1-rmse:91.1003\n",
            "[108]\tvalidation_0-rmse:84.1581\tvalidation_1-rmse:90.9011\n",
            "[109]\tvalidation_0-rmse:84.0454\tvalidation_1-rmse:90.9206\n",
            "[110]\tvalidation_0-rmse:83.9048\tvalidation_1-rmse:90.8151\n",
            "[111]\tvalidation_0-rmse:83.8749\tvalidation_1-rmse:90.8299\n",
            "[112]\tvalidation_0-rmse:83.765\tvalidation_1-rmse:90.7259\n",
            "[113]\tvalidation_0-rmse:83.6425\tvalidation_1-rmse:90.6847\n",
            "[114]\tvalidation_0-rmse:83.4701\tvalidation_1-rmse:90.5964\n",
            "[115]\tvalidation_0-rmse:83.4188\tvalidation_1-rmse:90.5787\n",
            "[116]\tvalidation_0-rmse:83.3129\tvalidation_1-rmse:90.5246\n",
            "[117]\tvalidation_0-rmse:83.2639\tvalidation_1-rmse:90.4583\n",
            "[118]\tvalidation_0-rmse:83.2263\tvalidation_1-rmse:90.4122\n",
            "[119]\tvalidation_0-rmse:83.1833\tvalidation_1-rmse:90.4058\n",
            "[120]\tvalidation_0-rmse:83.0755\tvalidation_1-rmse:90.4015\n",
            "[121]\tvalidation_0-rmse:83.0477\tvalidation_1-rmse:90.3858\n",
            "[122]\tvalidation_0-rmse:82.9846\tvalidation_1-rmse:90.3537\n",
            "[123]\tvalidation_0-rmse:82.6595\tvalidation_1-rmse:90.0491\n",
            "[124]\tvalidation_0-rmse:82.6236\tvalidation_1-rmse:90.0411\n",
            "[125]\tvalidation_0-rmse:82.286\tvalidation_1-rmse:89.826\n",
            "[126]\tvalidation_0-rmse:82.2239\tvalidation_1-rmse:89.7798\n",
            "[127]\tvalidation_0-rmse:82.1403\tvalidation_1-rmse:89.7251\n",
            "[128]\tvalidation_0-rmse:82.0328\tvalidation_1-rmse:89.6905\n",
            "[129]\tvalidation_0-rmse:81.8285\tvalidation_1-rmse:89.5795\n",
            "[130]\tvalidation_0-rmse:81.802\tvalidation_1-rmse:89.5802\n",
            "[131]\tvalidation_0-rmse:81.7131\tvalidation_1-rmse:89.5178\n",
            "[132]\tvalidation_0-rmse:81.6337\tvalidation_1-rmse:89.5114\n",
            "[133]\tvalidation_0-rmse:81.5919\tvalidation_1-rmse:89.5321\n",
            "[134]\tvalidation_0-rmse:81.5743\tvalidation_1-rmse:89.5393\n",
            "[135]\tvalidation_0-rmse:81.5324\tvalidation_1-rmse:89.5564\n",
            "[136]\tvalidation_0-rmse:81.4924\tvalidation_1-rmse:89.5453\n",
            "[137]\tvalidation_0-rmse:81.442\tvalidation_1-rmse:89.5275\n",
            "[138]\tvalidation_0-rmse:81.4194\tvalidation_1-rmse:89.5455\n",
            "[139]\tvalidation_0-rmse:81.3972\tvalidation_1-rmse:89.5584\n",
            "[140]\tvalidation_0-rmse:81.385\tvalidation_1-rmse:89.5528\n",
            "[141]\tvalidation_0-rmse:81.3616\tvalidation_1-rmse:89.5319\n",
            "[142]\tvalidation_0-rmse:81.3496\tvalidation_1-rmse:89.5348\n",
            "[143]\tvalidation_0-rmse:81.2927\tvalidation_1-rmse:89.5825\n",
            "[144]\tvalidation_0-rmse:81.241\tvalidation_1-rmse:89.6213\n",
            "[145]\tvalidation_0-rmse:81.1564\tvalidation_1-rmse:89.6944\n",
            "[146]\tvalidation_0-rmse:81.114\tvalidation_1-rmse:89.6966\n",
            "[147]\tvalidation_0-rmse:81.0634\tvalidation_1-rmse:89.6825\n",
            "[148]\tvalidation_0-rmse:81.0199\tvalidation_1-rmse:89.6926\n",
            "[149]\tvalidation_0-rmse:80.9943\tvalidation_1-rmse:89.6451\n",
            "[150]\tvalidation_0-rmse:80.9864\tvalidation_1-rmse:89.6457\n",
            "[151]\tvalidation_0-rmse:80.941\tvalidation_1-rmse:89.6535\n",
            "[152]\tvalidation_0-rmse:80.9179\tvalidation_1-rmse:89.6493\n",
            "[153]\tvalidation_0-rmse:80.8492\tvalidation_1-rmse:89.6829\n",
            "[154]\tvalidation_0-rmse:80.7841\tvalidation_1-rmse:89.7035\n",
            "[155]\tvalidation_0-rmse:80.6638\tvalidation_1-rmse:89.6121\n",
            "[156]\tvalidation_0-rmse:80.5448\tvalidation_1-rmse:89.6884\n",
            "[157]\tvalidation_0-rmse:80.3472\tvalidation_1-rmse:89.5363\n",
            "[158]\tvalidation_0-rmse:80.1696\tvalidation_1-rmse:89.4379\n",
            "[159]\tvalidation_0-rmse:80.081\tvalidation_1-rmse:89.34\n",
            "[160]\tvalidation_0-rmse:80.035\tvalidation_1-rmse:89.3325\n",
            "[161]\tvalidation_0-rmse:80.0029\tvalidation_1-rmse:89.3008\n",
            "[162]\tvalidation_0-rmse:79.9728\tvalidation_1-rmse:89.2936\n",
            "[163]\tvalidation_0-rmse:79.9383\tvalidation_1-rmse:89.2739\n",
            "[164]\tvalidation_0-rmse:79.8853\tvalidation_1-rmse:89.2648\n",
            "[165]\tvalidation_0-rmse:79.8021\tvalidation_1-rmse:89.1481\n",
            "[166]\tvalidation_0-rmse:79.7605\tvalidation_1-rmse:89.1374\n",
            "[167]\tvalidation_0-rmse:79.6818\tvalidation_1-rmse:89.0514\n",
            "[168]\tvalidation_0-rmse:79.6598\tvalidation_1-rmse:89.0691\n",
            "[169]\tvalidation_0-rmse:79.6198\tvalidation_1-rmse:89.0747\n",
            "[170]\tvalidation_0-rmse:79.6079\tvalidation_1-rmse:89.0585\n",
            "[171]\tvalidation_0-rmse:79.5427\tvalidation_1-rmse:89.0303\n",
            "[172]\tvalidation_0-rmse:79.5167\tvalidation_1-rmse:89.0309\n",
            "[173]\tvalidation_0-rmse:79.4546\tvalidation_1-rmse:88.9929\n",
            "[174]\tvalidation_0-rmse:79.3528\tvalidation_1-rmse:88.9219\n",
            "[175]\tvalidation_0-rmse:79.155\tvalidation_1-rmse:88.9368\n",
            "[176]\tvalidation_0-rmse:79.0748\tvalidation_1-rmse:88.957\n",
            "[177]\tvalidation_0-rmse:79.0662\tvalidation_1-rmse:88.9579\n",
            "[178]\tvalidation_0-rmse:79.03\tvalidation_1-rmse:88.9483\n",
            "[179]\tvalidation_0-rmse:78.9993\tvalidation_1-rmse:88.9413\n",
            "[180]\tvalidation_0-rmse:78.9884\tvalidation_1-rmse:88.9443\n",
            "[181]\tvalidation_0-rmse:78.9434\tvalidation_1-rmse:88.952\n",
            "[182]\tvalidation_0-rmse:78.8012\tvalidation_1-rmse:88.7457\n",
            "[183]\tvalidation_0-rmse:78.7455\tvalidation_1-rmse:88.7532\n",
            "[184]\tvalidation_0-rmse:78.6677\tvalidation_1-rmse:88.7092\n",
            "[185]\tvalidation_0-rmse:78.6139\tvalidation_1-rmse:88.6461\n",
            "[186]\tvalidation_0-rmse:78.6089\tvalidation_1-rmse:88.6442\n",
            "[187]\tvalidation_0-rmse:78.5716\tvalidation_1-rmse:88.6492\n",
            "[188]\tvalidation_0-rmse:78.5251\tvalidation_1-rmse:88.6822\n",
            "[189]\tvalidation_0-rmse:78.4403\tvalidation_1-rmse:88.6098\n",
            "[190]\tvalidation_0-rmse:78.4037\tvalidation_1-rmse:88.6343\n",
            "[191]\tvalidation_0-rmse:78.3325\tvalidation_1-rmse:88.7173\n",
            "[192]\tvalidation_0-rmse:78.1669\tvalidation_1-rmse:88.5608\n",
            "[193]\tvalidation_0-rmse:78.1491\tvalidation_1-rmse:88.5563\n",
            "[194]\tvalidation_0-rmse:78.1408\tvalidation_1-rmse:88.5295\n",
            "[195]\tvalidation_0-rmse:78.0917\tvalidation_1-rmse:88.5076\n",
            "[196]\tvalidation_0-rmse:78.0305\tvalidation_1-rmse:88.5396\n",
            "[197]\tvalidation_0-rmse:77.9628\tvalidation_1-rmse:88.5581\n",
            "[198]\tvalidation_0-rmse:77.9088\tvalidation_1-rmse:88.4849\n",
            "[199]\tvalidation_0-rmse:77.8571\tvalidation_1-rmse:88.4564\n",
            "[200]\tvalidation_0-rmse:77.8371\tvalidation_1-rmse:88.4612\n",
            "[201]\tvalidation_0-rmse:77.8269\tvalidation_1-rmse:88.461\n",
            "[202]\tvalidation_0-rmse:77.8029\tvalidation_1-rmse:88.4297\n",
            "[203]\tvalidation_0-rmse:77.7723\tvalidation_1-rmse:88.4185\n",
            "[204]\tvalidation_0-rmse:77.7325\tvalidation_1-rmse:88.4181\n",
            "[205]\tvalidation_0-rmse:77.6985\tvalidation_1-rmse:88.4257\n",
            "[206]\tvalidation_0-rmse:77.6355\tvalidation_1-rmse:88.44\n",
            "[207]\tvalidation_0-rmse:77.6186\tvalidation_1-rmse:88.4251\n",
            "[208]\tvalidation_0-rmse:77.5879\tvalidation_1-rmse:88.4225\n",
            "[209]\tvalidation_0-rmse:77.5697\tvalidation_1-rmse:88.407\n",
            "[210]\tvalidation_0-rmse:77.5582\tvalidation_1-rmse:88.3961\n",
            "[211]\tvalidation_0-rmse:77.5195\tvalidation_1-rmse:88.4215\n",
            "[212]\tvalidation_0-rmse:77.4419\tvalidation_1-rmse:88.4149\n",
            "[213]\tvalidation_0-rmse:77.3901\tvalidation_1-rmse:88.4633\n",
            "[214]\tvalidation_0-rmse:77.3196\tvalidation_1-rmse:88.4256\n",
            "[215]\tvalidation_0-rmse:77.2574\tvalidation_1-rmse:88.5067\n",
            "[216]\tvalidation_0-rmse:77.2287\tvalidation_1-rmse:88.5156\n",
            "[217]\tvalidation_0-rmse:77.1749\tvalidation_1-rmse:88.5766\n",
            "[218]\tvalidation_0-rmse:77.1606\tvalidation_1-rmse:88.576\n",
            "[219]\tvalidation_0-rmse:77.1168\tvalidation_1-rmse:88.5793\n",
            "[220]\tvalidation_0-rmse:77.0737\tvalidation_1-rmse:88.6033\n",
            "[221]\tvalidation_0-rmse:77.0384\tvalidation_1-rmse:88.6536\n",
            "[222]\tvalidation_0-rmse:77.0157\tvalidation_1-rmse:88.656\n",
            "[223]\tvalidation_0-rmse:77.0063\tvalidation_1-rmse:88.6544\n",
            "[224]\tvalidation_0-rmse:76.9803\tvalidation_1-rmse:88.6497\n",
            "[225]\tvalidation_0-rmse:76.9154\tvalidation_1-rmse:88.6027\n",
            "[226]\tvalidation_0-rmse:76.8825\tvalidation_1-rmse:88.627\n",
            "[227]\tvalidation_0-rmse:76.8306\tvalidation_1-rmse:88.6499\n",
            "[228]\tvalidation_0-rmse:76.7926\tvalidation_1-rmse:88.6877\n",
            "[229]\tvalidation_0-rmse:76.7575\tvalidation_1-rmse:88.6704\n",
            "[230]\tvalidation_0-rmse:76.6889\tvalidation_1-rmse:88.6877\n",
            "[231]\tvalidation_0-rmse:76.3811\tvalidation_1-rmse:88.4831\n",
            "[232]\tvalidation_0-rmse:76.3613\tvalidation_1-rmse:88.4785\n",
            "[233]\tvalidation_0-rmse:76.3491\tvalidation_1-rmse:88.4696\n",
            "[234]\tvalidation_0-rmse:76.2492\tvalidation_1-rmse:88.5249\n",
            "[235]\tvalidation_0-rmse:76.1996\tvalidation_1-rmse:88.4814\n",
            "[236]\tvalidation_0-rmse:76.1601\tvalidation_1-rmse:88.515\n",
            "[237]\tvalidation_0-rmse:76.1069\tvalidation_1-rmse:88.5678\n",
            "[238]\tvalidation_0-rmse:76.073\tvalidation_1-rmse:88.5531\n",
            "[239]\tvalidation_0-rmse:75.9628\tvalidation_1-rmse:88.4171\n",
            "[240]\tvalidation_0-rmse:75.9372\tvalidation_1-rmse:88.4166\n",
            "[241]\tvalidation_0-rmse:75.9223\tvalidation_1-rmse:88.3767\n",
            "[242]\tvalidation_0-rmse:75.911\tvalidation_1-rmse:88.3834\n",
            "[243]\tvalidation_0-rmse:75.8783\tvalidation_1-rmse:88.4022\n",
            "[244]\tvalidation_0-rmse:75.8215\tvalidation_1-rmse:88.4117\n",
            "[245]\tvalidation_0-rmse:75.7992\tvalidation_1-rmse:88.4358\n",
            "[246]\tvalidation_0-rmse:75.7941\tvalidation_1-rmse:88.4435\n",
            "[247]\tvalidation_0-rmse:75.7817\tvalidation_1-rmse:88.431\n",
            "[248]\tvalidation_0-rmse:75.7243\tvalidation_1-rmse:88.4395\n",
            "[249]\tvalidation_0-rmse:75.6942\tvalidation_1-rmse:88.445\n",
            "[250]\tvalidation_0-rmse:75.6625\tvalidation_1-rmse:88.4634\n",
            "[251]\tvalidation_0-rmse:75.623\tvalidation_1-rmse:88.4541\n",
            "[252]\tvalidation_0-rmse:75.5773\tvalidation_1-rmse:88.4317\n",
            "[253]\tvalidation_0-rmse:75.5433\tvalidation_1-rmse:88.4118\n",
            "[254]\tvalidation_0-rmse:75.5327\tvalidation_1-rmse:88.4168\n",
            "[255]\tvalidation_0-rmse:75.4907\tvalidation_1-rmse:88.3555\n",
            "[256]\tvalidation_0-rmse:75.4532\tvalidation_1-rmse:88.3922\n",
            "[257]\tvalidation_0-rmse:75.3615\tvalidation_1-rmse:88.3421\n",
            "[258]\tvalidation_0-rmse:75.1998\tvalidation_1-rmse:88.2057\n",
            "[259]\tvalidation_0-rmse:75.1492\tvalidation_1-rmse:88.179\n",
            "[260]\tvalidation_0-rmse:75.0765\tvalidation_1-rmse:88.0783\n",
            "[261]\tvalidation_0-rmse:75.0668\tvalidation_1-rmse:88.0731\n",
            "[262]\tvalidation_0-rmse:75.0465\tvalidation_1-rmse:88.0754\n",
            "[263]\tvalidation_0-rmse:75.004\tvalidation_1-rmse:88.0944\n",
            "[264]\tvalidation_0-rmse:74.9549\tvalidation_1-rmse:88.0828\n",
            "[265]\tvalidation_0-rmse:74.9203\tvalidation_1-rmse:88.0869\n",
            "[266]\tvalidation_0-rmse:74.8706\tvalidation_1-rmse:88.0989\n",
            "[267]\tvalidation_0-rmse:74.8262\tvalidation_1-rmse:88.0725\n",
            "[268]\tvalidation_0-rmse:74.8013\tvalidation_1-rmse:88.0825\n",
            "[269]\tvalidation_0-rmse:74.7975\tvalidation_1-rmse:88.0866\n",
            "[270]\tvalidation_0-rmse:74.7681\tvalidation_1-rmse:88.1046\n",
            "[271]\tvalidation_0-rmse:74.749\tvalidation_1-rmse:88.089\n",
            "[272]\tvalidation_0-rmse:74.7406\tvalidation_1-rmse:88.091\n",
            "[273]\tvalidation_0-rmse:74.7175\tvalidation_1-rmse:88.0739\n",
            "[274]\tvalidation_0-rmse:74.708\tvalidation_1-rmse:88.0823\n",
            "[275]\tvalidation_0-rmse:74.6786\tvalidation_1-rmse:88.0615\n",
            "[276]\tvalidation_0-rmse:74.6573\tvalidation_1-rmse:88.0737\n",
            "[277]\tvalidation_0-rmse:74.6238\tvalidation_1-rmse:88.0559\n",
            "[278]\tvalidation_0-rmse:74.5831\tvalidation_1-rmse:88.0523\n",
            "[279]\tvalidation_0-rmse:74.573\tvalidation_1-rmse:88.0603\n",
            "[280]\tvalidation_0-rmse:74.5584\tvalidation_1-rmse:88.0511\n",
            "[281]\tvalidation_0-rmse:74.5554\tvalidation_1-rmse:88.0551\n",
            "[282]\tvalidation_0-rmse:74.5475\tvalidation_1-rmse:88.061\n",
            "[283]\tvalidation_0-rmse:74.5115\tvalidation_1-rmse:88.078\n",
            "[284]\tvalidation_0-rmse:74.5001\tvalidation_1-rmse:88.0785\n",
            "[285]\tvalidation_0-rmse:74.4785\tvalidation_1-rmse:88.0802\n",
            "[286]\tvalidation_0-rmse:74.4756\tvalidation_1-rmse:88.0885\n",
            "[287]\tvalidation_0-rmse:74.4457\tvalidation_1-rmse:88.104\n",
            "[288]\tvalidation_0-rmse:74.433\tvalidation_1-rmse:88.0979\n",
            "[289]\tvalidation_0-rmse:74.4304\tvalidation_1-rmse:88.097\n",
            "[290]\tvalidation_0-rmse:74.403\tvalidation_1-rmse:88.0871\n",
            "[291]\tvalidation_0-rmse:74.373\tvalidation_1-rmse:88.1304\n",
            "[292]\tvalidation_0-rmse:74.3304\tvalidation_1-rmse:88.0733\n",
            "[293]\tvalidation_0-rmse:74.273\tvalidation_1-rmse:88.0555\n",
            "[294]\tvalidation_0-rmse:74.2554\tvalidation_1-rmse:88.061\n",
            "[295]\tvalidation_0-rmse:74.1993\tvalidation_1-rmse:88.0966\n",
            "[296]\tvalidation_0-rmse:74.1718\tvalidation_1-rmse:88.0888\n",
            "[297]\tvalidation_0-rmse:74.1387\tvalidation_1-rmse:88.124\n",
            "[298]\tvalidation_0-rmse:74.099\tvalidation_1-rmse:88.1363\n",
            "[299]\tvalidation_0-rmse:74.0856\tvalidation_1-rmse:88.1422\n",
            "[300]\tvalidation_0-rmse:74.0507\tvalidation_1-rmse:88.1634\n",
            "[301]\tvalidation_0-rmse:74.0131\tvalidation_1-rmse:88.2027\n",
            "[302]\tvalidation_0-rmse:73.9794\tvalidation_1-rmse:88.2424\n",
            "[303]\tvalidation_0-rmse:73.9553\tvalidation_1-rmse:88.2498\n",
            "[304]\tvalidation_0-rmse:73.9215\tvalidation_1-rmse:88.2499\n",
            "[305]\tvalidation_0-rmse:73.9193\tvalidation_1-rmse:88.248\n",
            "[306]\tvalidation_0-rmse:73.8937\tvalidation_1-rmse:88.2684\n",
            "[307]\tvalidation_0-rmse:73.8488\tvalidation_1-rmse:88.2908\n",
            "[308]\tvalidation_0-rmse:73.7949\tvalidation_1-rmse:88.3073\n",
            "[309]\tvalidation_0-rmse:73.7589\tvalidation_1-rmse:88.2961\n",
            "[310]\tvalidation_0-rmse:73.708\tvalidation_1-rmse:88.3067\n",
            "[311]\tvalidation_0-rmse:73.6722\tvalidation_1-rmse:88.3547\n",
            "[312]\tvalidation_0-rmse:73.6491\tvalidation_1-rmse:88.3646\n",
            "[313]\tvalidation_0-rmse:73.6171\tvalidation_1-rmse:88.3622\n",
            "[314]\tvalidation_0-rmse:73.5897\tvalidation_1-rmse:88.3525\n",
            "[315]\tvalidation_0-rmse:73.5454\tvalidation_1-rmse:88.3587\n",
            "[316]\tvalidation_0-rmse:73.5051\tvalidation_1-rmse:88.3135\n",
            "[317]\tvalidation_0-rmse:73.4757\tvalidation_1-rmse:88.2821\n",
            "[318]\tvalidation_0-rmse:73.4347\tvalidation_1-rmse:88.2644\n",
            "[319]\tvalidation_0-rmse:73.4075\tvalidation_1-rmse:88.2566\n",
            "[320]\tvalidation_0-rmse:73.3805\tvalidation_1-rmse:88.254\n",
            "[321]\tvalidation_0-rmse:73.3507\tvalidation_1-rmse:88.2761\n",
            "[322]\tvalidation_0-rmse:73.335\tvalidation_1-rmse:88.2648\n",
            "[323]\tvalidation_0-rmse:73.3052\tvalidation_1-rmse:88.2715\n",
            "[324]\tvalidation_0-rmse:73.188\tvalidation_1-rmse:88.2363\n",
            "[325]\tvalidation_0-rmse:73.05\tvalidation_1-rmse:88.1485\n",
            "[326]\tvalidation_0-rmse:72.8419\tvalidation_1-rmse:88.0561\n",
            "[327]\tvalidation_0-rmse:72.8001\tvalidation_1-rmse:88.0629\n",
            "[328]\tvalidation_0-rmse:72.7429\tvalidation_1-rmse:88.0359\n",
            "[329]\tvalidation_0-rmse:72.7051\tvalidation_1-rmse:88.0777\n",
            "[330]\tvalidation_0-rmse:72.6457\tvalidation_1-rmse:88.0011\n",
            "[331]\tvalidation_0-rmse:72.6068\tvalidation_1-rmse:88.0226\n",
            "[332]\tvalidation_0-rmse:72.5615\tvalidation_1-rmse:88.0552\n",
            "[333]\tvalidation_0-rmse:72.5431\tvalidation_1-rmse:88.0476\n",
            "[334]\tvalidation_0-rmse:72.4984\tvalidation_1-rmse:87.9961\n",
            "[335]\tvalidation_0-rmse:72.4911\tvalidation_1-rmse:87.9866\n",
            "[336]\tvalidation_0-rmse:72.4777\tvalidation_1-rmse:87.9986\n",
            "[337]\tvalidation_0-rmse:72.4513\tvalidation_1-rmse:87.9959\n",
            "[338]\tvalidation_0-rmse:72.4205\tvalidation_1-rmse:88.0241\n",
            "[339]\tvalidation_0-rmse:72.4065\tvalidation_1-rmse:88.0407\n",
            "[340]\tvalidation_0-rmse:72.3666\tvalidation_1-rmse:88.0321\n",
            "[341]\tvalidation_0-rmse:72.3484\tvalidation_1-rmse:88.0452\n",
            "[342]\tvalidation_0-rmse:72.346\tvalidation_1-rmse:88.0531\n",
            "[343]\tvalidation_0-rmse:72.3274\tvalidation_1-rmse:88.0414\n",
            "[344]\tvalidation_0-rmse:72.3112\tvalidation_1-rmse:88.0566\n",
            "[345]\tvalidation_0-rmse:72.3092\tvalidation_1-rmse:88.0632\n",
            "[346]\tvalidation_0-rmse:72.2939\tvalidation_1-rmse:88.0769\n",
            "[347]\tvalidation_0-rmse:72.2206\tvalidation_1-rmse:87.9918\n",
            "[348]\tvalidation_0-rmse:72.1915\tvalidation_1-rmse:88.0073\n",
            "[349]\tvalidation_0-rmse:72.1782\tvalidation_1-rmse:88.0005\n",
            "[350]\tvalidation_0-rmse:72.1586\tvalidation_1-rmse:87.9968\n",
            "[351]\tvalidation_0-rmse:72.1335\tvalidation_1-rmse:88.0434\n",
            "[352]\tvalidation_0-rmse:72.1301\tvalidation_1-rmse:88.0377\n",
            "[353]\tvalidation_0-rmse:72.1128\tvalidation_1-rmse:88.044\n",
            "[354]\tvalidation_0-rmse:72.1112\tvalidation_1-rmse:88.0501\n",
            "[355]\tvalidation_0-rmse:72.0167\tvalidation_1-rmse:87.9961\n",
            "[356]\tvalidation_0-rmse:71.9823\tvalidation_1-rmse:88.0584\n",
            "[357]\tvalidation_0-rmse:71.9557\tvalidation_1-rmse:88.0606\n",
            "[358]\tvalidation_0-rmse:71.9387\tvalidation_1-rmse:88.0628\n",
            "[359]\tvalidation_0-rmse:71.9116\tvalidation_1-rmse:88.0895\n",
            "[360]\tvalidation_0-rmse:71.8904\tvalidation_1-rmse:88.1099\n",
            "[361]\tvalidation_0-rmse:71.8668\tvalidation_1-rmse:88.127\n",
            "[362]\tvalidation_0-rmse:71.8387\tvalidation_1-rmse:88.1321\n",
            "[363]\tvalidation_0-rmse:71.8163\tvalidation_1-rmse:88.1005\n",
            "[364]\tvalidation_0-rmse:71.8008\tvalidation_1-rmse:88.1064\n",
            "[365]\tvalidation_0-rmse:71.794\tvalidation_1-rmse:88.1013\n",
            "[366]\tvalidation_0-rmse:71.7848\tvalidation_1-rmse:88.0945\n",
            "[367]\tvalidation_0-rmse:71.7777\tvalidation_1-rmse:88.0908\n",
            "[368]\tvalidation_0-rmse:71.7395\tvalidation_1-rmse:88.162\n",
            "[369]\tvalidation_0-rmse:71.7286\tvalidation_1-rmse:88.1598\n",
            "[370]\tvalidation_0-rmse:71.672\tvalidation_1-rmse:88.1446\n",
            "[371]\tvalidation_0-rmse:71.6464\tvalidation_1-rmse:88.1421\n",
            "[372]\tvalidation_0-rmse:71.6235\tvalidation_1-rmse:88.1477\n",
            "[373]\tvalidation_0-rmse:71.6086\tvalidation_1-rmse:88.1514\n",
            "[374]\tvalidation_0-rmse:71.6066\tvalidation_1-rmse:88.1467\n",
            "[375]\tvalidation_0-rmse:71.5956\tvalidation_1-rmse:88.1501\n",
            "[376]\tvalidation_0-rmse:71.583\tvalidation_1-rmse:88.1427\n",
            "[377]\tvalidation_0-rmse:71.5537\tvalidation_1-rmse:88.1518\n",
            "[378]\tvalidation_0-rmse:71.5269\tvalidation_1-rmse:88.1723\n",
            "[379]\tvalidation_0-rmse:71.5218\tvalidation_1-rmse:88.1791\n",
            "[380]\tvalidation_0-rmse:71.5105\tvalidation_1-rmse:88.1704\n",
            "[381]\tvalidation_0-rmse:71.4793\tvalidation_1-rmse:88.1658\n",
            "[382]\tvalidation_0-rmse:71.4356\tvalidation_1-rmse:88.1486\n",
            "[383]\tvalidation_0-rmse:71.4035\tvalidation_1-rmse:88.2087\n",
            "[384]\tvalidation_0-rmse:71.346\tvalidation_1-rmse:88.2564\n",
            "[385]\tvalidation_0-rmse:71.3177\tvalidation_1-rmse:88.2581\n",
            "Stopping. Best iteration:\n",
            "[335]\tvalidation_0-rmse:72.4911\tvalidation_1-rmse:87.9866\n",
            "\n"
          ]
        }
      ],
      "source": [
        "encoder = OrdinalEncoder()\n",
        "X_train_encoded = encoder.fit_transform(X_train) # 학습데이터\n",
        "X_val_encoded = encoder.transform(X_val) # 검증데이터\n",
        "X_test_encoded = encoder.transform(X_test) # 테스트데이터\n",
        "\n",
        "model = xgboost.XGBRegressor(\n",
        "    n_estimators=1000,\n",
        "    objective='reg:squarederror', # default\n",
        "    learning_rate=0.2,\n",
        "    n_jobs=-1\n",
        ")\n",
        "eval_set = [(X_train_encoded, y_train), \n",
        "            (X_val_encoded, y_val)]\n",
        "\n",
        "model.fit(X_train_encoded, y_train, \n",
        "          eval_set=eval_set,\n",
        "          early_stopping_rounds=50\n",
        "         )\n",
        "\n",
        "\n",
        "# 모델 저장\n",
        "filename = 'xgb_model.model'\n",
        "model.save_model(filename)\n",
        "# 모델 불러오기\n",
        "# new_xgb_model = xgb.XGBRegressor() # 모델 초기화\n",
        "# new_xgb_model.load_model(filename) # 모델 불러오기\n",
        "\n",
        "import pickle\n",
        "\n",
        "with open('encoder.pkl','wb') as pickle_file:\n",
        "    pickle.dump(X_train_encoded, pickle_file)"
      ]
    },
    {
      "cell_type": "markdown",
      "source": [
        "모델 성능지표"
      ],
      "metadata": {
        "id": "5YlruTe02lZR"
      }
    },
    {
      "cell_type": "code",
      "execution_count": null,
      "metadata": {
        "colab": {
          "base_uri": "https://localhost:8080/"
        },
        "id": "XIRZNe6Grp1l",
        "outputId": "8628257f-106a-4c2f-85b3-88cd54266096"
      },
      "outputs": [
        {
          "output_type": "stream",
          "name": "stdout",
          "text": [
            "mae: 49.90311588088439 ,mse: 6178.445191493812 ,r2: 0.8963995990183271\n"
          ]
        }
      ],
      "source": [
        "y_pred = model.predict(X_test_encoded)\n",
        "mae = mean_absolute_error(y_test, y_pred)\n",
        "mse = mean_squared_error(y_test, y_pred)\n",
        "r2 = r2_score(y_test, y_pred)\n",
        "print('mae:', mae, ',mse:', mse, ',r2:', r2)"
      ]
    },
    {
      "cell_type": "markdown",
      "source": [
        "모델 저장"
      ],
      "metadata": {
        "id": "jEnFL5TL0Zkk"
      }
    },
    {
      "cell_type": "code",
      "execution_count": null,
      "metadata": {
        "id": "87BGlQfStOsA"
      },
      "outputs": [],
      "source": [
        "import pickle\n",
        "\n",
        "with open('model.pkl','wb') as pickle_file:     # xgboosts는 model.save_model()이용\n",
        "    pickle.dump(model, pickle_file)\n",
        "\n",
        "with open('encoder.pkl','wb') as pickle_file:\n",
        "    pickle.dump(encoder, pickle_file)"
      ]
    },
    {
      "cell_type": "markdown",
      "source": [
        "특정 중요도"
      ],
      "metadata": {
        "id": "4Wl75ZeK0XNL"
      }
    },
    {
      "cell_type": "code",
      "source": [
        "import shap\n",
        "\n",
        "explainer = shap.TreeExplainer(model)\n",
        "shap_values = explainer.shap_values(X_val_encoded.iloc[:300])\n",
        "shap.summary_plot(shap_values, X_val_encoded.iloc[:300], plot_type=\"bar\")"
      ],
      "metadata": {
        "colab": {
          "base_uri": "https://localhost:8080/",
          "height": 323
        },
        "id": "LLzhnQAUxvFJ",
        "outputId": "4aa7bfb9-42d7-4f7b-bba9-73b5e777a6c1"
      },
      "execution_count": null,
      "outputs": [
        {
          "output_type": "display_data",
          "data": {
            "image/png": "[encoded data removed]",
            "text/plain": [
              "<Figure size 576x338.4 with 1 Axes>"
            ]
          },
          "metadata": {
            "needs_background": "light"
          }
        }
      ]
    }
  ],
  "metadata": {
    "colab": {
      "collapsed_sections": [],
      "name": "Section3_Project.ipynb",
      "provenance": []
    },
    "kernelspec": {
      "display_name": "Python 3",
      "name": "python3"
    },
    "language_info": {
      "name": "python"
    }
  },
  "nbformat": 4,
  "nbformat_minor": 0
}